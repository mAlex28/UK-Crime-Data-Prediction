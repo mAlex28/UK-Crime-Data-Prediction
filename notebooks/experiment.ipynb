{
 "cells": [
  {
   "cell_type": "code",
   "execution_count": 1,
   "id": "c45e214b",
   "metadata": {},
   "outputs": [],
   "source": [
    "import geopandas as gpd\n",
    "import shapely.geometry as Point\n",
    "import requests\n",
    "import time\n",
    "import matplotlib.pyplot as plt\n",
    "import seaborn as sns\n",
    "import pandas as pd\n",
    "import numpy as np\n",
    "import folium\n",
    "from folium.plugins import HeatMap\n",
    "from datetime import datetime, timedelta"
   ]
  },
  {
   "cell_type": "code",
   "execution_count": 10,
   "id": "df08f86a",
   "metadata": {},
   "outputs": [],
   "source": [
    "# Get all postcodes for local area\n",
    "LOCAL_LAT = 51.5146\n",
    "LOCAL_LNG = -2.5820\n",
    "RADIUS_METRES = 2000 # 2km within the central point for local city\n",
    "MONTHS = 6 # Number of months to pull data rom"
   ]
  },
  {
   "cell_type": "code",
   "execution_count": 23,
   "id": "5dde4a1d",
   "metadata": {},
   "outputs": [],
   "source": [
    "# API helper - Current Police API has a rate limit of 15 requests per second with a burst of 30\n",
    "def get_api_response(url, retries = 5, backoff=1):\n",
    "    for i in range(retries):\n",
    "        response = requests.get(url)\n",
    "        if response.status_code == 200:\n",
    "            return response.json()\n",
    "        elif response.status_code == 429:\n",
    "            print(f\"You have exceeded the rate limit. Waiting {backoff} seconds...\")\n",
    "            time.sleep(backoff)\n",
    "            backoff *= 2\n",
    "        else:\n",
    "            print(f\"Error {response.status_code} - {response.text}\")\n",
    "            return None\n",
    "    return None"
   ]
  },
  {
   "cell_type": "code",
   "execution_count": 24,
   "id": "02b1d415",
   "metadata": {},
   "outputs": [],
   "source": [
    "def fetch_local_postcodes(lat, lng, radius=2000):\n",
    "    postcode_url = f\"https://api.postcodes.io/postcodes?lon={lng}&lat={lat}&radius={radius}\"\n",
    "    print(\"Fetching nearby postcodes...\")\n",
    "    data = get_api_response(postcode_url)\n",
    "    \n",
    "    if not data:\n",
    "        return []\n",
    "    return [p['postcode'] for p in data['result']]"
   ]
  },
  {
   "cell_type": "code",
   "execution_count": 14,
   "id": "6741a18f",
   "metadata": {},
   "outputs": [],
   "source": [
    "def get_lat_lng(postcode):\n",
    "    url = f\"https://api.postcodes.io/postcodes/{postcode}\"\n",
    "    result = get_api_response(url)\n",
    "    if result and result.get('result'):\n",
    "        return result['result']['latitude'], result['result']['longitude']\n",
    "    return None, None"
   ]
  },
  {
   "cell_type": "code",
   "execution_count": 15,
   "id": "c7fb7760",
   "metadata": {},
   "outputs": [],
   "source": [
    "# Get data for past N months\n",
    "def generate_months(n):\n",
    "    base = datetime.today().replace(day=1)\n",
    "    return [(base - timedelta(days=30 * i)).strftime(\"%Y-%m\") for i in range(n)]"
   ]
  },
  {
   "cell_type": "code",
   "execution_count": null,
   "id": "bc2000ed",
   "metadata": {},
   "outputs": [],
   "source": [
    "# List of Bristol area outcodes (first half of postcode)\n",
    "outcodes = ['BS1', 'BS2', 'BS3', 'BS4', 'BS5', 'BS6', 'BS7', 'BS8', 'BS9', 'BS10', 'BS11', 'BS13', 'BS14', 'BS15', 'BS16', 'BS30', 'BS34']\n",
    "\n",
    "\n",
    "def fetch_crime_data(postcodes, months):\n",
    "    all_crimes = []\n",
    "    lat_lng_cache = {}\n",
    "\n",
    "    for postcode in postcodes:\n",
    "        lat, lng = lat_lng_cache.get(postcode, (None, None))\n",
    "        if not lat:\n",
    "            lat, lng = get_lat_lng(postcode)\n",
    "            lat_lng_cache[postcode] = (lat, lng)\n",
    "        if not lat:\n",
    "            print(f\"Couldn't get location for {postcode}, skipping.\")\n",
    "            continue\n",
    "\n",
    "        for month in months:\n",
    "            url = f\"https://data.police.uk/api/crimes-street/all-crime?lat={lat}&lng={lng}&date={month}\"\n",
    "            print(f\"Fetching crimes for {postcode} ({month})\")\n",
    "            crimes = get_api_response(url)\n",
    "            if crimes:\n",
    "                for crime in crimes:\n",
    "                    crime['postcode'] = postcode\n",
    "                    crime['month'] = month\n",
    "                all_crimes.extend(crimes)\n",
    "            time.sleep(0.2)  # Rate limit protection\n",
    "\n",
    "    return all_crimes"
   ]
  },
  {
   "cell_type": "code",
   "execution_count": 25,
   "id": "e45249cb",
   "metadata": {},
   "outputs": [
    {
     "name": "stdout",
     "output_type": "stream",
     "text": [
      "Fetching nearby postcodes...\n",
      "Fetching crimes for BS34 7QS (2025-05)\n",
      "Error 404 - \n",
      "Fetching crimes for BS34 7QS (2025-04)\n",
      "Fetching crimes for BS34 7QS (2025-03)\n",
      "Fetching crimes for BS34 7QS (2025-01)\n",
      "Fetching crimes for BS34 7QS (2025-01)\n",
      "Fetching crimes for BS34 7QS (2024-12)\n",
      "Fetching crimes for BS34 7BA (2025-05)\n",
      "Error 404 - \n",
      "Fetching crimes for BS34 7BA (2025-04)\n",
      "Fetching crimes for BS34 7BA (2025-03)\n",
      "Fetching crimes for BS34 7BA (2025-01)\n",
      "Fetching crimes for BS34 7BA (2025-01)\n",
      "Fetching crimes for BS34 7BA (2024-12)\n",
      "Fetching crimes for BS34 7QQ (2025-05)\n",
      "Error 404 - \n",
      "Fetching crimes for BS34 7QQ (2025-04)\n",
      "Fetching crimes for BS34 7QQ (2025-03)\n",
      "Fetching crimes for BS34 7QQ (2025-01)\n",
      "Fetching crimes for BS34 7QQ (2025-01)\n",
      "Fetching crimes for BS34 7QQ (2024-12)\n",
      "Fetching crimes for BS34 7QB (2025-05)\n",
      "Error 404 - \n",
      "Fetching crimes for BS34 7QB (2025-04)\n",
      "Fetching crimes for BS34 7QB (2025-03)\n",
      "Fetching crimes for BS34 7QB (2025-01)\n",
      "Fetching crimes for BS34 7QB (2025-01)\n",
      "Fetching crimes for BS34 7QB (2024-12)\n",
      "Fetching crimes for BS34 4AQ (2025-05)\n",
      "Error 404 - \n",
      "Fetching crimes for BS34 4AQ (2025-04)\n",
      "Fetching crimes for BS34 4AQ (2025-03)\n",
      "Fetching crimes for BS34 4AQ (2025-01)\n",
      "Fetching crimes for BS34 4AQ (2025-01)\n",
      "Fetching crimes for BS34 4AQ (2024-12)\n",
      "Fetching crimes for BS34 4AJ (2025-05)\n",
      "Error 404 - \n",
      "Fetching crimes for BS34 4AJ (2025-04)\n",
      "Fetching crimes for BS34 4AJ (2025-03)\n",
      "Fetching crimes for BS34 4AJ (2025-01)\n",
      "Fetching crimes for BS34 4AJ (2025-01)\n",
      "Fetching crimes for BS34 4AJ (2024-12)\n",
      "Fetching crimes for BS34 4AL (2025-05)\n",
      "Error 404 - \n",
      "Fetching crimes for BS34 4AL (2025-04)\n",
      "Fetching crimes for BS34 4AL (2025-03)\n",
      "Fetching crimes for BS34 4AL (2025-01)\n",
      "Fetching crimes for BS34 4AL (2025-01)\n",
      "Fetching crimes for BS34 4AL (2024-12)\n",
      "Fetching crimes for BS34 7PA (2025-05)\n",
      "Error 404 - \n",
      "Fetching crimes for BS34 7PA (2025-04)\n",
      "Fetching crimes for BS34 7PA (2025-03)\n",
      "Fetching crimes for BS34 7PA (2025-01)\n",
      "Fetching crimes for BS34 7PA (2025-01)\n",
      "Fetching crimes for BS34 7PA (2024-12)\n",
      "Fetching crimes for BS34 7AD (2025-05)\n",
      "Error 404 - \n",
      "Fetching crimes for BS34 7AD (2025-04)\n",
      "Fetching crimes for BS34 7AD (2025-03)\n",
      "Fetching crimes for BS34 7AD (2025-01)\n",
      "Fetching crimes for BS34 7AD (2025-01)\n",
      "Fetching crimes for BS34 7AD (2024-12)\n",
      "Fetching crimes for BS34 7PZ (2025-05)\n",
      "Error 404 - \n",
      "Fetching crimes for BS34 7PZ (2025-04)\n",
      "Fetching crimes for BS34 7PZ (2025-03)\n",
      "Fetching crimes for BS34 7PZ (2025-01)\n",
      "Fetching crimes for BS34 7PZ (2025-01)\n",
      "Fetching crimes for BS34 7PZ (2024-12)\n"
     ]
    }
   ],
   "source": [
    "postcodes = fetch_local_postcodes(LOCAL_LAT, LOCAL_LNG, RADIUS_METRES)\n",
    "months = generate_months(MONTHS)\n",
    "crime_data = fetch_crime_data(postcodes, months)\n"
   ]
  },
  {
   "cell_type": "code",
   "execution_count": 28,
   "id": "3171d264",
   "metadata": {},
   "outputs": [
    {
     "name": "stdout",
     "output_type": "stream",
     "text": [
      "Crime data saved to ../data/filton_crime_data.csv\n"
     ]
    },
    {
     "data": {
      "text/html": [
       "<div>\n",
       "<style scoped>\n",
       "    .dataframe tbody tr th:only-of-type {\n",
       "        vertical-align: middle;\n",
       "    }\n",
       "\n",
       "    .dataframe tbody tr th {\n",
       "        vertical-align: top;\n",
       "    }\n",
       "\n",
       "    .dataframe thead th {\n",
       "        text-align: right;\n",
       "    }\n",
       "</style>\n",
       "<table border=\"1\" class=\"dataframe\">\n",
       "  <thead>\n",
       "    <tr style=\"text-align: right;\">\n",
       "      <th></th>\n",
       "      <th>category</th>\n",
       "      <th>location_type</th>\n",
       "      <th>location</th>\n",
       "      <th>context</th>\n",
       "      <th>outcome_status</th>\n",
       "      <th>persistent_id</th>\n",
       "      <th>id</th>\n",
       "      <th>location_subtype</th>\n",
       "      <th>month</th>\n",
       "      <th>postcode</th>\n",
       "    </tr>\n",
       "  </thead>\n",
       "  <tbody>\n",
       "    <tr>\n",
       "      <th>0</th>\n",
       "      <td>anti-social-behaviour</td>\n",
       "      <td>Force</td>\n",
       "      <td>{'latitude': '51.504003', 'street': {'id': 227...</td>\n",
       "      <td></td>\n",
       "      <td>None</td>\n",
       "      <td></td>\n",
       "      <td>126954826</td>\n",
       "      <td></td>\n",
       "      <td>2025-03</td>\n",
       "      <td>BS34 7QS</td>\n",
       "    </tr>\n",
       "    <tr>\n",
       "      <th>1</th>\n",
       "      <td>anti-social-behaviour</td>\n",
       "      <td>Force</td>\n",
       "      <td>{'latitude': '51.513031', 'street': {'id': 228...</td>\n",
       "      <td></td>\n",
       "      <td>None</td>\n",
       "      <td></td>\n",
       "      <td>126954994</td>\n",
       "      <td></td>\n",
       "      <td>2025-03</td>\n",
       "      <td>BS34 7QS</td>\n",
       "    </tr>\n",
       "    <tr>\n",
       "      <th>2</th>\n",
       "      <td>anti-social-behaviour</td>\n",
       "      <td>Force</td>\n",
       "      <td>{'latitude': '51.513031', 'street': {'id': 228...</td>\n",
       "      <td></td>\n",
       "      <td>None</td>\n",
       "      <td></td>\n",
       "      <td>126955680</td>\n",
       "      <td></td>\n",
       "      <td>2025-03</td>\n",
       "      <td>BS34 7QS</td>\n",
       "    </tr>\n",
       "    <tr>\n",
       "      <th>3</th>\n",
       "      <td>anti-social-behaviour</td>\n",
       "      <td>Force</td>\n",
       "      <td>{'latitude': '51.509414', 'street': {'id': 228...</td>\n",
       "      <td></td>\n",
       "      <td>None</td>\n",
       "      <td></td>\n",
       "      <td>126955191</td>\n",
       "      <td></td>\n",
       "      <td>2025-03</td>\n",
       "      <td>BS34 7QS</td>\n",
       "    </tr>\n",
       "    <tr>\n",
       "      <th>4</th>\n",
       "      <td>anti-social-behaviour</td>\n",
       "      <td>Force</td>\n",
       "      <td>{'latitude': '51.500977', 'street': {'id': 227...</td>\n",
       "      <td></td>\n",
       "      <td>None</td>\n",
       "      <td></td>\n",
       "      <td>126955944</td>\n",
       "      <td></td>\n",
       "      <td>2025-03</td>\n",
       "      <td>BS34 7QS</td>\n",
       "    </tr>\n",
       "  </tbody>\n",
       "</table>\n",
       "</div>"
      ],
      "text/plain": [
       "                category location_type  \\\n",
       "0  anti-social-behaviour         Force   \n",
       "1  anti-social-behaviour         Force   \n",
       "2  anti-social-behaviour         Force   \n",
       "3  anti-social-behaviour         Force   \n",
       "4  anti-social-behaviour         Force   \n",
       "\n",
       "                                            location context outcome_status  \\\n",
       "0  {'latitude': '51.504003', 'street': {'id': 227...                   None   \n",
       "1  {'latitude': '51.513031', 'street': {'id': 228...                   None   \n",
       "2  {'latitude': '51.513031', 'street': {'id': 228...                   None   \n",
       "3  {'latitude': '51.509414', 'street': {'id': 228...                   None   \n",
       "4  {'latitude': '51.500977', 'street': {'id': 227...                   None   \n",
       "\n",
       "  persistent_id         id location_subtype    month  postcode  \n",
       "0                126954826                   2025-03  BS34 7QS  \n",
       "1                126954994                   2025-03  BS34 7QS  \n",
       "2                126955680                   2025-03  BS34 7QS  \n",
       "3                126955191                   2025-03  BS34 7QS  \n",
       "4                126955944                   2025-03  BS34 7QS  "
      ]
     },
     "execution_count": 28,
     "metadata": {},
     "output_type": "execute_result"
    }
   ],
   "source": [
    "# Save to file\n",
    "df = pd.DataFrame(crime_data)\n",
    "df.to_csv(\"../data/filton_crime_data.csv\", index=False)\n",
    "print(\"Crime data saved to ../data/filton_crime_data.csv\")\n",
    "df.head()"
   ]
  },
  {
   "cell_type": "code",
   "execution_count": 29,
   "id": "68e1dcc5",
   "metadata": {},
   "outputs": [
    {
     "data": {
      "image/png": "[encoded data removed]",
      "text/plain": [
       "<Figure size 1000x500 with 1 Axes>"
      ]
     },
     "metadata": {},
     "output_type": "display_data"
    }
   ],
   "source": [
    "# Top 10 postcodes with most crime\n",
    "top_postcodes = df['postcode'].value_counts().nlargest(100)\n",
    "plt.figure(figsize=(10, 5))\n",
    "sns.barplot(x=top_postcodes.index, y=top_postcodes.values, palette=\"rocket\")\n",
    "plt.title('Top 10 Postcodes by Number of Crimes (Filton Area)')\n",
    "plt.xlabel('Postcode')\n",
    "plt.ylabel('Number of Crimes')\n",
    "plt.xticks(rotation=45)\n",
    "plt.tight_layout()\n",
    "plt.show()"
   ]
  },
  {
   "cell_type": "code",
   "execution_count": 30,
   "id": "1bd72131",
   "metadata": {},
   "outputs": [
    {
     "data": {
      "image/png": "[encoded data removed]",
      "text/plain": [
       "<Figure size 1200x500 with 1 Axes>"
      ]
     },
     "metadata": {},
     "output_type": "display_data"
    }
   ],
   "source": [
    "# Crime category vs Number of Crimes\n",
    "plt.figure(figsize=(12, 5))\n",
    "sns.countplot(data=df, x='category', order=df['category'].value_counts().index, palette=\"coolwarm\")\n",
    "plt.title('Crime Categories in Filton Area')\n",
    "plt.xticks(rotation=45, ha='right')\n",
    "plt.tight_layout()\n",
    "plt.show()\n"
   ]
  },
  {
   "cell_type": "code",
   "execution_count": 34,
   "id": "8f41095b",
   "metadata": {},
   "outputs": [
    {
     "name": "stdout",
     "output_type": "stream",
     "text": [
      "Crime heatmap saved as filton_crime_map.html. Open it in a browser!\n"
     ]
    }
   ],
   "source": [
    "# Create map centred on Filton\n",
    "crime_map = folium.Map(location=[LOCAL_LAT, LOCAL_LNG], zoom_start=14)\n",
    "\n",
    "# Filter out missing data\n",
    "df = df[df['location'].notnull() & df['location'].apply(lambda loc: loc.get('latitude') and loc.get('longitude'))]\n",
    "\n",
    "df['lat'] = df['location'].apply(lambda loc: float(loc['latitude']))\n",
    "df['lng'] = df['location'].apply(lambda loc: float(loc['longitude']))\n",
    "\n",
    "heat_data = df[['lat', 'lng']].values.tolist()\n",
    "\n",
    "# Add heat effect to the map\n",
    "HeatMap(heat_data, radius=15, blur=25, max_zoom=15).add_to(crime_map)\n",
    "\n",
    "# Save map as HTML\n",
    "crime_map.save(\"../assets/filton_crime_map.html\")\n",
    "print(\"Crime heatmap saved as filton_crime_map.html. Open it in a browser!\")"
   ]
  },
  {
   "cell_type": "code",
   "execution_count": 35,
   "id": "3a128835",
   "metadata": {},
   "outputs": [
    {
     "data": {
      "text/plain": [
       "Index(['category', 'location_type', 'location', 'context', 'outcome_status',\n",
       "       'persistent_id', 'id', 'location_subtype', 'month', 'postcode', 'lat',\n",
       "       'lng'],\n",
       "      dtype='object')"
      ]
     },
     "execution_count": 35,
     "metadata": {},
     "output_type": "execute_result"
    }
   ],
   "source": [
    "# Get all column names\n",
    "df.columns"
   ]
  },
  {
   "cell_type": "code",
   "execution_count": 36,
   "id": "ce79e43e",
   "metadata": {},
   "outputs": [
    {
     "data": {
      "text/plain": [
       "(8415, 12)"
      ]
     },
     "execution_count": 36,
     "metadata": {},
     "output_type": "execute_result"
    }
   ],
   "source": [
    "# Shape\n",
    "df.shape"
   ]
  },
  {
   "cell_type": "code",
   "execution_count": 37,
   "id": "7998db9a",
   "metadata": {},
   "outputs": [
    {
     "data": {
      "text/plain": [
       "category               0\n",
       "location_type          0\n",
       "location               0\n",
       "context             8415\n",
       "outcome_status       800\n",
       "persistent_id        807\n",
       "id                     0\n",
       "location_subtype    8408\n",
       "month                  0\n",
       "postcode               0\n",
       "lat                    0\n",
       "lng                    0\n",
       "dtype: int64"
      ]
     },
     "execution_count": 37,
     "metadata": {},
     "output_type": "execute_result"
    }
   ],
   "source": [
    "# Replace empty strings with NaN for uniformity\n",
    "df_cleaned = df.replace('', np.nan)\n",
    "\n",
    "# Total number of rows with missing values\n",
    "df_cleaned.isna().sum()"
   ]
  },
  {
   "cell_type": "code",
   "execution_count": 38,
   "id": "e2001695",
   "metadata": {},
   "outputs": [
    {
     "data": {
      "text/html": [
       "<div>\n",
       "<style scoped>\n",
       "    .dataframe tbody tr th:only-of-type {\n",
       "        vertical-align: middle;\n",
       "    }\n",
       "\n",
       "    .dataframe tbody tr th {\n",
       "        vertical-align: top;\n",
       "    }\n",
       "\n",
       "    .dataframe thead th {\n",
       "        text-align: right;\n",
       "    }\n",
       "</style>\n",
       "<table border=\"1\" class=\"dataframe\">\n",
       "  <thead>\n",
       "    <tr style=\"text-align: right;\">\n",
       "      <th></th>\n",
       "      <th>category</th>\n",
       "      <th>location_type</th>\n",
       "      <th>location</th>\n",
       "      <th>id</th>\n",
       "      <th>month</th>\n",
       "      <th>postcode</th>\n",
       "      <th>lat</th>\n",
       "      <th>lng</th>\n",
       "    </tr>\n",
       "  </thead>\n",
       "  <tbody>\n",
       "    <tr>\n",
       "      <th>0</th>\n",
       "      <td>anti-social-behaviour</td>\n",
       "      <td>Force</td>\n",
       "      <td>{'latitude': '51.504003', 'street': {'id': 227...</td>\n",
       "      <td>126954826</td>\n",
       "      <td>2025-03</td>\n",
       "      <td>BS34 7QS</td>\n",
       "      <td>51.504003</td>\n",
       "      <td>-2.578959</td>\n",
       "    </tr>\n",
       "    <tr>\n",
       "      <th>1</th>\n",
       "      <td>anti-social-behaviour</td>\n",
       "      <td>Force</td>\n",
       "      <td>{'latitude': '51.513031', 'street': {'id': 228...</td>\n",
       "      <td>126954994</td>\n",
       "      <td>2025-03</td>\n",
       "      <td>BS34 7QS</td>\n",
       "      <td>51.513031</td>\n",
       "      <td>-2.571378</td>\n",
       "    </tr>\n",
       "    <tr>\n",
       "      <th>2</th>\n",
       "      <td>anti-social-behaviour</td>\n",
       "      <td>Force</td>\n",
       "      <td>{'latitude': '51.513031', 'street': {'id': 228...</td>\n",
       "      <td>126955680</td>\n",
       "      <td>2025-03</td>\n",
       "      <td>BS34 7QS</td>\n",
       "      <td>51.513031</td>\n",
       "      <td>-2.571378</td>\n",
       "    </tr>\n",
       "    <tr>\n",
       "      <th>3</th>\n",
       "      <td>anti-social-behaviour</td>\n",
       "      <td>Force</td>\n",
       "      <td>{'latitude': '51.509414', 'street': {'id': 228...</td>\n",
       "      <td>126955191</td>\n",
       "      <td>2025-03</td>\n",
       "      <td>BS34 7QS</td>\n",
       "      <td>51.509414</td>\n",
       "      <td>-2.571967</td>\n",
       "    </tr>\n",
       "    <tr>\n",
       "      <th>4</th>\n",
       "      <td>anti-social-behaviour</td>\n",
       "      <td>Force</td>\n",
       "      <td>{'latitude': '51.500977', 'street': {'id': 227...</td>\n",
       "      <td>126955944</td>\n",
       "      <td>2025-03</td>\n",
       "      <td>BS34 7QS</td>\n",
       "      <td>51.500977</td>\n",
       "      <td>-2.574368</td>\n",
       "    </tr>\n",
       "  </tbody>\n",
       "</table>\n",
       "</div>"
      ],
      "text/plain": [
       "                category location_type  \\\n",
       "0  anti-social-behaviour         Force   \n",
       "1  anti-social-behaviour         Force   \n",
       "2  anti-social-behaviour         Force   \n",
       "3  anti-social-behaviour         Force   \n",
       "4  anti-social-behaviour         Force   \n",
       "\n",
       "                                            location         id    month  \\\n",
       "0  {'latitude': '51.504003', 'street': {'id': 227...  126954826  2025-03   \n",
       "1  {'latitude': '51.513031', 'street': {'id': 228...  126954994  2025-03   \n",
       "2  {'latitude': '51.513031', 'street': {'id': 228...  126955680  2025-03   \n",
       "3  {'latitude': '51.509414', 'street': {'id': 228...  126955191  2025-03   \n",
       "4  {'latitude': '51.500977', 'street': {'id': 227...  126955944  2025-03   \n",
       "\n",
       "   postcode        lat       lng  \n",
       "0  BS34 7QS  51.504003 -2.578959  \n",
       "1  BS34 7QS  51.513031 -2.571378  \n",
       "2  BS34 7QS  51.513031 -2.571378  \n",
       "3  BS34 7QS  51.509414 -2.571967  \n",
       "4  BS34 7QS  51.500977 -2.574368  "
      ]
     },
     "execution_count": 38,
     "metadata": {},
     "output_type": "execute_result"
    }
   ],
   "source": [
    "# Drop irrelevant columns\n",
    "df_cleaned = df_cleaned.drop(columns=['outcome_status', 'context', 'persistent_id', 'location_subtype'], axis=1)\n",
    "df_cleaned.head()"
   ]
  },
  {
   "cell_type": "code",
   "execution_count": 39,
   "id": "10a20893",
   "metadata": {},
   "outputs": [
    {
     "name": "stdout",
     "output_type": "stream",
     "text": [
      "Number of invalid dates: 0\n"
     ]
    }
   ],
   "source": [
    "# Regex pattern for YYYY-MM format\n",
    "pattern = r'^\\d{4}-(0[1-9]|1[0-2])$'\n",
    "\n",
    "# Cound the number of invalid dates\n",
    "valid_count = (~df_cleaned['month'].str.match(pattern)).sum()\n",
    "print(f\"Number of invalid dates: {valid_count}\")"
   ]
  },
  {
   "cell_type": "code",
   "execution_count": 14,
   "id": "14f52e32",
   "metadata": {},
   "outputs": [],
   "source": [
    "# Seperate Year and Month to different columns\n",
    "# df_cleaned[[\"year\", \"month\"]] = df[\"month\"].str.split(\"-\", expand = True)\n",
    "# df_cleaned.head()"
   ]
  },
  {
   "cell_type": "code",
   "execution_count": 40,
   "id": "4f1d087c",
   "metadata": {},
   "outputs": [
    {
     "name": "stdout",
     "output_type": "stream",
     "text": [
      "violent-crime            3198\n",
      "shoplifting              1030\n",
      "anti-social-behaviour     800\n",
      "public-order              682\n",
      "other-theft               646\n",
      "criminal-damage-arson     528\n",
      "vehicle-crime             494\n",
      "burglary                  292\n",
      "other-crime               254\n",
      "drugs                     234\n",
      "bicycle-theft             145\n",
      "robbery                    81\n",
      "possession-of-weapons      24\n",
      "theft-from-the-person       7\n",
      "Name: category, dtype: int64\n"
     ]
    }
   ],
   "source": [
    "# Count crime categories\n",
    "crime_category_count = df_cleaned['category'].value_counts()\n",
    "print(crime_category_count)"
   ]
  },
  {
   "cell_type": "code",
   "execution_count": 41,
   "id": "f560bcd2",
   "metadata": {},
   "outputs": [
    {
     "name": "stdout",
     "output_type": "stream",
     "text": [
      "violence       3279\n",
      "theft          2607\n",
      "anti-social    2010\n",
      "other           285\n",
      "drugs           234\n",
      "Name: recategorised_crimes, dtype: int64\n"
     ]
    }
   ],
   "source": [
    "# Recategorised crimes to imporve generalisation\n",
    "crime_category_map = {\n",
    "    'violent-crime': 'violence',\n",
    "    'robbery': 'violence',\n",
    "    'shoplifting': 'theft',\n",
    "    'burglary': 'theft',\n",
    "    'vehicle-crime': 'theft',\n",
    "    'bicycle-theft': 'theft',\n",
    "    'other-theft': 'theft',\n",
    "    'anti-social-behaviour': 'anti-social',\n",
    "    'public-order': 'anti-social',\n",
    "    'criminal-damage-arson': 'anti-social',\n",
    "    'drugs': 'drugs',\n",
    "    'possession-of-weapons': 'other', \n",
    "    'other-crime': 'other'\n",
    "}\n",
    "\n",
    "df_cleaned['recategorised_crimes'] = df_cleaned['category'].map(crime_category_map)\n",
    "\n",
    "# Assign any unmapped crimes to 'other' category\n",
    "df_cleaned['recategorised_crimes'] = df_cleaned['recategorised_crimes'].fillna('other')\n",
    "\n",
    "crime_category_count = df_cleaned['recategorised_crimes'].value_counts()\n",
    "print(crime_category_count)"
   ]
  },
  {
   "cell_type": "code",
   "execution_count": 42,
   "id": "a2808d1e",
   "metadata": {},
   "outputs": [
    {
     "data": {
      "image/png": "[encoded data removed]",
      "text/plain": [
       "<Figure size 640x480 with 1 Axes>"
      ]
     },
     "metadata": {},
     "output_type": "display_data"
    }
   ],
   "source": [
    "df_cleaned['recategorised_crimes'].value_counts().plot(kind='bar')\n",
    "plt.title(\"Crime Categories (Grouped)\")\n",
    "plt.ylabel(\"Number of Crimes\")\n",
    "plt.xticks(rotation=45)\n",
    "plt.show()"
   ]
  },
  {
   "cell_type": "code",
   "execution_count": 43,
   "id": "b58b07df",
   "metadata": {},
   "outputs": [
    {
     "name": "stdout",
     "output_type": "stream",
     "text": [
      "   postcode  total_crimes\n",
      "0  BS34 4AJ           855\n",
      "1  BS34 4AL           924\n",
      "2  BS34 4AQ           864\n",
      "3  BS34 7AD           751\n",
      "4  BS34 7BA           774\n",
      "5  BS34 7PA           830\n",
      "6  BS34 7PZ          1009\n",
      "7  BS34 7QB           756\n",
      "8  BS34 7QQ           850\n",
      "9  BS34 7QS           802\n"
     ]
    }
   ],
   "source": [
    "# Total crimes per postcode\n",
    "total_crimes_per_postcode = df_cleaned.groupby('postcode').size().reset_index(name='total_crimes')\n",
    "print(total_crimes_per_postcode)"
   ]
  },
  {
   "cell_type": "code",
   "execution_count": 44,
   "id": "fafc69a4",
   "metadata": {},
   "outputs": [
    {
     "name": "stdout",
     "output_type": "stream",
     "text": [
      "    postcode top_crime_category\n",
      "3   BS34 4AJ              theft\n",
      "8   BS34 4AL              theft\n",
      "13  BS34 4AQ              theft\n",
      "19  BS34 7AD           violence\n",
      "24  BS34 7BA           violence\n",
      "29  BS34 7PA           violence\n",
      "34  BS34 7PZ           violence\n",
      "39  BS34 7QB           violence\n",
      "44  BS34 7QQ           violence\n",
      "49  BS34 7QS           violence\n"
     ]
    }
   ],
   "source": [
    "# Top crime category per postcode\n",
    "top_category_per_postcode = (\n",
    "    df_cleaned.groupby(['postcode', 'recategorised_crimes']).size().reset_index(name='count').sort_values(['postcode', 'count'], ascending=[True, False]).drop_duplicates('postcode').rename(columns={'recategorised_crimes': 'top_crime_category'}).drop('count', axis=1)\n",
    ")\n",
    "print(top_category_per_postcode)"
   ]
  },
  {
   "cell_type": "code",
   "execution_count": 45,
   "id": "07370864",
   "metadata": {},
   "outputs": [
    {
     "name": "stdout",
     "output_type": "stream",
     "text": [
      "    postcode    month  monthly_crimes\n",
      "0   BS34 4AJ  2024-12             214\n",
      "1   BS34 4AJ  2025-01             410\n",
      "2   BS34 4AJ  2025-03             231\n",
      "3   BS34 4AL  2024-12             236\n",
      "4   BS34 4AL  2025-01             446\n",
      "5   BS34 4AL  2025-03             242\n",
      "6   BS34 4AQ  2024-12             215\n",
      "7   BS34 4AQ  2025-01             416\n",
      "8   BS34 4AQ  2025-03             233\n",
      "9   BS34 7AD  2024-12             172\n",
      "10  BS34 7AD  2025-01             382\n",
      "11  BS34 7AD  2025-03             197\n",
      "12  BS34 7BA  2024-12             169\n",
      "13  BS34 7BA  2025-01             402\n",
      "14  BS34 7BA  2025-03             203\n",
      "15  BS34 7PA  2024-12             178\n",
      "16  BS34 7PA  2025-01             432\n",
      "17  BS34 7PA  2025-03             220\n",
      "18  BS34 7PZ  2024-12             233\n",
      "19  BS34 7PZ  2025-01             494\n",
      "20  BS34 7PZ  2025-03             282\n",
      "21  BS34 7QB  2024-12             175\n",
      "22  BS34 7QB  2025-01             384\n",
      "23  BS34 7QB  2025-03             197\n",
      "24  BS34 7QQ  2024-12             186\n",
      "25  BS34 7QQ  2025-01             440\n",
      "26  BS34 7QQ  2025-03             224\n",
      "27  BS34 7QS  2024-12             185\n",
      "28  BS34 7QS  2025-01             408\n",
      "29  BS34 7QS  2025-03             209\n"
     ]
    }
   ],
   "source": [
    "# Crimes per postcode per month\n",
    "monthly_crime = (\n",
    "    df_cleaned.groupby(['postcode', 'month'])\n",
    "    .size()\n",
    "    .reset_index(name='monthly_crimes')\n",
    ")\n",
    "print(monthly_crime)"
   ]
  },
  {
   "cell_type": "code",
   "execution_count": 21,
   "id": "e0265a8c",
   "metadata": {},
   "outputs": [
    {
     "name": "stdout",
     "output_type": "stream",
     "text": [
      "   postcode  total_crimes top_crime_category\n",
      "0  BS34 4AJ           231              theft\n",
      "1  BS34 4AL           242              theft\n",
      "2  BS34 4AQ           233              theft\n",
      "3  BS34 7AD           197              theft\n",
      "4  BS34 7BA           203           violence\n",
      "5  BS34 7PA           220           violence\n",
      "6  BS34 7PZ           282           violence\n",
      "7  BS34 7QB           197           violence\n",
      "8  BS34 7QQ           224           violence\n",
      "9  BS34 7QS           209           violence\n"
     ]
    }
   ],
   "source": [
    "# Merge summaries into one master table\n",
    "postcode_summary = total_crimes_per_postcode.merge(top_category_per_postcode, on='postcode')\n",
    "print(postcode_summary)"
   ]
  },
  {
   "cell_type": "code",
   "execution_count": 46,
   "id": "4012c611",
   "metadata": {},
   "outputs": [
    {
     "name": "stdout",
     "output_type": "stream",
     "text": [
      "2024-12 2025-03\n"
     ]
    }
   ],
   "source": [
    "# Check time range\n",
    "print(df_cleaned['month'].min(), df_cleaned['month'].max())"
   ]
  }
 ],
 "metadata": {
  "kernelspec": {
   "display_name": "AI-env",
   "language": "python",
   "name": "python3"
  },
  "language_info": {
   "codemirror_mode": {
    "name": "ipython",
    "version": 3
   },
   "file_extension": ".py",
   "mimetype": "text/x-python",
   "name": "python",
   "nbconvert_exporter": "python",
   "pygments_lexer": "ipython3",
   "version": "3.11.4"
  }
 },
 "nbformat": 4,
 "nbformat_minor": 5
}
